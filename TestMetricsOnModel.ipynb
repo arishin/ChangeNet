{
 "cells": [
  {
   "cell_type": "markdown",
   "metadata": {},
   "source": [
    "# Test Metrics on Model"
   ]
  },
  {
   "cell_type": "code",
   "execution_count": 1,
   "metadata": {},
   "outputs": [
    {
     "name": "stdout",
     "output_type": "stream",
     "text": [
      "Device: cuda:0\n",
      "Number of available GPUs: 8\n"
     ]
    }
   ],
   "source": [
    "import torch\n",
    "import numpy as np\n",
    "import torch.nn as nn\n",
    "import torchvision\n",
    "import change_dataset_np\n",
    "from torchvision import datasets, models, transforms\n",
    "import seg_metrics\n",
    "import models\n",
    "from PIL import Image\n",
    "import matplotlib.pyplot as plt\n",
    "img_size = 224\n",
    "num_classes = 2\n",
    "batch_size = 1\n",
    "val_pickle_file = 'change_dataset_train.pkl'\n",
    "\n",
    "from IPython.display import clear_output, display\n",
    "from ipywidgets import interact, interactive, fixed, interact_manual\n",
    "import ipywidgets as widgets\n",
    "\n",
    "device = torch.device(\"cuda:0\" if torch.cuda.is_available() else \"cpu\")\n",
    "#device = 'cpu'\n",
    "print('Device:', device)\n",
    "num_gpu = torch.cuda.device_count()\n",
    "print('Number of available GPUs:', num_gpu)"
   ]
  },
  {
   "cell_type": "code",
   "execution_count": 8,
   "metadata": {},
   "outputs": [],
   "source": [
    "#transforms.Normalize([0.485, 0.456, 0.406], [0.229, 0.224, 0.225])\n",
    "data_transforms = {\n",
    "    'train': transforms.Compose([\n",
    "        transforms.Resize(img_size),\n",
    "        transforms.CenterCrop(img_size),\n",
    "        transforms.ToTensor(),\n",
    "        #transforms.Normalize([0.485, 0.456, 0.406], [0.229, 0.224, 0.225]),\n",
    "    ]),\n",
    "    'val': transforms.Compose([\n",
    "        transforms.Resize(img_size),\n",
    "        transforms.CenterCrop(img_size),\n",
    "        transforms.ToTensor(),\n",
    "        #transforms.Normalize([0.485, 0.456, 0.406], [0.229, 0.224, 0.225]),\n",
    "    ]),\n",
    "}"
   ]
  },
  {
   "cell_type": "code",
   "execution_count": 9,
   "metadata": {},
   "outputs": [],
   "source": [
    "val_dataset = change_dataset_np.ChangeDatasetNumpy(val_pickle_file, data_transforms['val'])\n",
    "val_loader = torch.utils.data.DataLoader(val_dataset, batch_size=batch_size, shuffle=False, num_workers=1)"
   ]
  },
  {
   "cell_type": "markdown",
   "metadata": {},
   "source": [
    "#### Initialize Model and Load Checkpoint"
   ]
  },
  {
   "cell_type": "code",
   "execution_count": 4,
   "metadata": {},
   "outputs": [],
   "source": [
    "change_net = models.ChangeNet(num_classes=num_classes)\n",
    "if num_gpu > 1:\n",
    "    change_net = nn.DataParallel(change_net)\n",
    "change_net = change_net.to(device)\n",
    "\n",
    "checkpoint = torch.load('./best_model-NoRandCrop.pkl')\n",
    "change_net.load_state_dict(checkpoint);\n",
    "change_net.eval();"
   ]
  },
  {
   "cell_type": "code",
   "execution_count": 10,
   "metadata": {},
   "outputs": [
    {
     "data": {
      "application/vnd.jupyter.widget-view+json": {
       "model_id": "77f77106facd464aa5deb285e0ffe1a2",
       "version_major": 2,
       "version_minor": 0
      },
      "text/plain": [
       "interactive(children=(IntSlider(value=0, description='idx', max=73275), Output()), _dom_classes=('widget-inter…"
      ]
     },
     "metadata": {},
     "output_type": "display_data"
    }
   ],
   "source": [
    "iteractive_idx = 0\n",
    "output = 0\n",
    "label_img = 0\n",
    "preds = 0\n",
    "@interact(idx=widgets.IntSlider(min=0,max=len(val_dataset)-1))\n",
    "def explore_validation_dataset(idx):\n",
    "    global iteractive_idx\n",
    "    global output\n",
    "    global label_img\n",
    "    global preds\n",
    "    sample = val_dataset[idx]\n",
    "    reference_img = sample['reference']\n",
    "    test_img = sample['test']\n",
    "    label_img = sample['label']\n",
    "    preds = change_net([reference_img.unsqueeze(0), test_img.unsqueeze(0)])\n",
    "    _, output = torch.max(preds, 1)\n",
    "    output = output.unsqueeze(0)\n",
    "    print(output.shape)\n",
    "    plt.imshow(reference_img.permute(1, 2, 0).numpy())\n",
    "    plt.show()\n",
    "    plt.imshow(test_img.permute(1, 2, 0).numpy())\n",
    "    plt.show()\n",
    "    plt.imshow(label_img.squeeze(0).numpy())\n",
    "    plt.show()\n",
    "    plt.imshow(output.squeeze(0).squeeze(0).cpu().numpy())\n",
    "    plt.show()\n",
    "    iteractive_idx = idx"
   ]
  },
  {
   "cell_type": "code",
   "execution_count": 11,
   "metadata": {},
   "outputs": [
    {
     "name": "stdout",
     "output_type": "stream",
     "text": [
      "output.shape: torch.Size([1, 1, 224, 224])\n",
      "1\n",
      "output type: torch.cuda.LongTensor\n",
      "preds.shape: torch.Size([1, 2, 224, 224])\n",
      "10.89464282989502\n",
      "preds type: torch.cuda.FloatTensor\n",
      "label_img.shape: torch.Size([1, 224, 224])\n",
      "0.003921568859368563\n",
      "label_img type: torch.FloatTensor\n"
     ]
    }
   ],
   "source": [
    "print('output.shape:', output.shape)\n",
    "print(torch.max(output).item())\n",
    "print('output type:', output.type())\n",
    "\n",
    "print('preds.shape:', preds.shape)\n",
    "print(torch.max(preds).item())\n",
    "print('preds type:', preds.type())\n",
    "\n",
    "print('label_img.shape:', label_img.shape)\n",
    "print(torch.max(label_img).item())\n",
    "print('label_img type:', label_img.type())"
   ]
  },
  {
   "cell_type": "code",
   "execution_count": 14,
   "metadata": {},
   "outputs": [
    {
     "name": "stdout",
     "output_type": "stream",
     "text": [
      "tensor(0.9692)\n"
     ]
    }
   ],
   "source": [
    "iou = seg_metrics.iou_segmentation(output.squeeze(1).to(device).type(torch.LongTensor), (label_img>0).to(device).type(torch.LongTensor))\n",
    "#iou_pytorch(output.squeeze(1).to(device).type(torch.uint8), output.squeeze(1).to(device).type(torch.uint8))\n",
    "print(iou)"
   ]
  }
 ],
 "metadata": {
  "kernelspec": {
   "display_name": "Python 3",
   "language": "python",
   "name": "python3"
  },
  "language_info": {
   "codemirror_mode": {
    "name": "ipython",
    "version": 3
   },
   "file_extension": ".py",
   "mimetype": "text/x-python",
   "name": "python",
   "nbconvert_exporter": "python",
   "pygments_lexer": "ipython3",
   "version": "3.7.9"
  }
 },
 "nbformat": 4,
 "nbformat_minor": 4
}
