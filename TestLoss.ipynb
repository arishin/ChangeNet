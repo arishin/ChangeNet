{
 "cells": [
  {
   "cell_type": "markdown",
   "metadata": {},
   "source": [
    "# Tests Loss\n",
    "On this notebook we will exercise the expected input/target for segmentation loss.\n",
    "```python\n",
    "n_class = 10\n",
    "batch_size = 4\n",
    "img_size = 224\n",
    "preds = torch.randn(batch_size, num_classes, img_size, img_size)\n",
    "labels = torch.empty(batch_size, img_size, img_size, dtype=torch.long).random_(n_class)\n",
    "\n",
    "criterion = nn.CrossEntropyLoss()\n",
    "loss = criterion(preds, labels)\n",
    "```\n",
    "#### References\n",
    "* https://discuss.pytorch.org/t/the-cost-function-for-semantic-segmentation/27668/2\n",
    "* https://discuss.pytorch.org/t/multi-class-cross-entropy-loss-function-implementation-in-pytorch/19077/12\n",
    "* https://github.com/CSAILVision/semantic-segmentation-pytorch"
   ]
  },
  {
   "cell_type": "code",
   "execution_count": 1,
   "metadata": {},
   "outputs": [
    {
     "name": "stdout",
     "output_type": "stream",
     "text": [
      "PyTorch Version:  1.6.0\n",
      "Device: cpu\n",
      "Number of GPUs Available: 1\n"
     ]
    }
   ],
   "source": [
    "import torch\n",
    "import torch.nn as nn\n",
    "import torch.optim as optim\n",
    "import numpy as np\n",
    "import models\n",
    "import losses\n",
    "import seg_metrics\n",
    "print(\"PyTorch Version: \",torch.__version__)\n",
    "num_classes = 2\n",
    "batch_size = 10\n",
    "img_size = 224\n",
    "\n",
    "device = torch.device(\"cuda:0\" if torch.cuda.is_available() else \"cpu\")\n",
    "device = 'cpu'\n",
    "print('Device:', device)\n",
    "num_gpu = torch.cuda.device_count()\n",
    "num_gpu = 1\n",
    "batch_size *= num_gpu\n",
    "print('Number of GPUs Available:', num_gpu)"
   ]
  },
  {
   "cell_type": "markdown",
   "metadata": {},
   "source": [
    "#### Define expected labels, model output"
   ]
  },
  {
   "cell_type": "code",
   "execution_count": 2,
   "metadata": {},
   "outputs": [
    {
     "name": "stdout",
     "output_type": "stream",
     "text": [
      "preds.shape: torch.Size([10, 2, 224, 224])\n",
      "labels.shape: torch.Size([10, 224, 224])\n"
     ]
    }
   ],
   "source": [
    "preds = torch.randn(batch_size, num_classes, img_size, img_size).to(device)\n",
    "labels = torch.empty(batch_size, img_size, img_size, dtype=torch.long).random_(num_classes).to(device)\n",
    "print('preds.shape:', preds.shape)\n",
    "print('labels.shape:', labels.shape)"
   ]
  },
  {
   "cell_type": "markdown",
   "metadata": {},
   "source": [
    "#### Try Cross-Entropy Loss\n",
    "If you use this loss you don't need to use the softmax activation"
   ]
  },
  {
   "cell_type": "code",
   "execution_count": 3,
   "metadata": {},
   "outputs": [
    {
     "name": "stdout",
     "output_type": "stream",
     "text": [
      "Loss: tensor(0.9017)\n"
     ]
    }
   ],
   "source": [
    "criterion = nn.CrossEntropyLoss()\n",
    "loss = criterion(preds, labels)\n",
    "print('Loss:',loss)"
   ]
  },
  {
   "cell_type": "markdown",
   "metadata": {},
   "source": [
    "#### Try Focal Loss"
   ]
  },
  {
   "cell_type": "code",
   "execution_count": 4,
   "metadata": {},
   "outputs": [
    {
     "name": "stdout",
     "output_type": "stream",
     "text": [
      "input (pre):  torch.Size([10, 2, 224, 224])\n",
      "target : torch.Size([501760, 1]) input :  torch.Size([501760, 2])\n",
      "Loss: tensor(0.2425)\n"
     ]
    }
   ],
   "source": [
    "# If there are more than 2 classes the alpha need to be a list\n",
    "criterion = losses.FocalLoss(gamma=2.0, alpha=0.25)\n",
    "loss = criterion(preds, labels)\n",
    "print('Loss:',loss)"
   ]
  },
  {
   "cell_type": "markdown",
   "metadata": {},
   "source": [
    "#### Try on Model"
   ]
  },
  {
   "cell_type": "code",
   "execution_count": 5,
   "metadata": {},
   "outputs": [
    {
     "name": "stdout",
     "output_type": "stream",
     "text": [
      "preds.shape: torch.Size([10, 2, 224, 224])\n",
      "Loss: tensor(1.8859, grad_fn=<NllLoss2DBackward>)\n",
      "preds_max.shape: torch.Size([10, 224, 224])\n"
     ]
    }
   ],
   "source": [
    "img_reference = torch.randn(batch_size,3,224,224).to(device)\n",
    "img_test = torch.randn(batch_size,3,224,224).to(device)\n",
    "change_net = models.ChangeNet(num_classes=num_classes)\n",
    "if num_gpu > 1:\n",
    "    change_net = nn.DataParallel(change_net)\n",
    "change_net = change_net.to(device)\n",
    "\n",
    "preds = change_net([img_reference, img_test])\n",
    "print('preds.shape:', preds.shape)\n",
    "criterion = nn.CrossEntropyLoss()\n",
    "loss = criterion(preds, labels)\n",
    "print('Loss:',loss)\n",
    "# Get the max accross each channel of the image\n",
    "_, preds_max = torch.max(preds, 1)\n",
    "print('preds_max.shape:', preds_max.shape)"
   ]
  },
  {
   "cell_type": "code",
   "execution_count": 6,
   "metadata": {},
   "outputs": [
    {
     "ename": "AttributeError",
     "evalue": "module 'seg_metrics' has no attribute 'dice'",
     "output_type": "error",
     "traceback": [
      "\u001b[0;31m---------------------------------------------------------------------------\u001b[0m",
      "\u001b[0;31mAttributeError\u001b[0m                            Traceback (most recent call last)",
      "\u001b[0;32m<ipython-input-6-db142c40866d>\u001b[0m in \u001b[0;36m<module>\u001b[0;34m\u001b[0m\n\u001b[0;32m----> 1\u001b[0;31m \u001b[0mdice_metric\u001b[0m \u001b[0;34m=\u001b[0m \u001b[0mseg_metrics\u001b[0m\u001b[0;34m.\u001b[0m\u001b[0mdice\u001b[0m\u001b[0;34m(\u001b[0m\u001b[0mpreds_max\u001b[0m\u001b[0;34m,\u001b[0m \u001b[0mlabels\u001b[0m\u001b[0;34m)\u001b[0m\u001b[0;34m\u001b[0m\u001b[0;34m\u001b[0m\u001b[0m\n\u001b[0m\u001b[1;32m      2\u001b[0m \u001b[0mprint\u001b[0m\u001b[0;34m(\u001b[0m\u001b[0mdice_metric\u001b[0m\u001b[0;34m)\u001b[0m\u001b[0;34m\u001b[0m\u001b[0;34m\u001b[0m\u001b[0m\n",
      "\u001b[0;31mAttributeError\u001b[0m: module 'seg_metrics' has no attribute 'dice'"
     ]
    }
   ],
   "source": [
    "dice_metric = seg_metrics.dice(preds_max, labels)\n",
    "print(dice_metric)"
   ]
  },
  {
   "cell_type": "code",
   "execution_count": null,
   "metadata": {},
   "outputs": [],
   "source": []
  }
 ],
 "metadata": {
  "kernelspec": {
   "display_name": "Python 3",
   "language": "python",
   "name": "python3"
  },
  "language_info": {
   "codemirror_mode": {
    "name": "ipython",
    "version": 3
   },
   "file_extension": ".py",
   "mimetype": "text/x-python",
   "name": "python",
   "nbconvert_exporter": "python",
   "pygments_lexer": "ipython3",
   "version": "3.7.9"
  }
 },
 "nbformat": 4,
 "nbformat_minor": 4
}
